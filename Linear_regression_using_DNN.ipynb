{
 "cells": [
  {
   "cell_type": "code",
   "execution_count": 1,
   "metadata": {
    "id": "642bSOecxDcf"
   },
   "outputs": [],
   "source": [
    "import tensorflow as tf\n",
    "import numpy as np\n",
    "import pandas as pd\n",
    "\n",
    "from sklearn import preprocessing\n",
    "from sklearn.model_selection import train_test_split\n",
    "from sklearn.metrics import mean_squared_error"
   ]
  },
  {
   "cell_type": "code",
   "execution_count": 2,
   "metadata": {
    "id": "Jbg2rb79xFKi"
   },
   "outputs": [],
   "source": [
    "df = pd.read_csv('HousingData.csv')"
   ]
  },
  {
   "cell_type": "code",
   "execution_count": 3,
   "metadata": {
    "colab": {
     "base_uri": "https://localhost:8080/",
     "height": 363
    },
    "id": "JHep43E-x7kk",
    "outputId": "94647457-9538-4b1d-9757-eaf32084cced"
   },
   "outputs": [
    {
     "data": {
      "text/html": [
       "<div>\n",
       "<style scoped>\n",
       "    .dataframe tbody tr th:only-of-type {\n",
       "        vertical-align: middle;\n",
       "    }\n",
       "\n",
       "    .dataframe tbody tr th {\n",
       "        vertical-align: top;\n",
       "    }\n",
       "\n",
       "    .dataframe thead th {\n",
       "        text-align: right;\n",
       "    }\n",
       "</style>\n",
       "<table border=\"1\" class=\"dataframe\">\n",
       "  <thead>\n",
       "    <tr style=\"text-align: right;\">\n",
       "      <th></th>\n",
       "      <th>CRIM</th>\n",
       "      <th>ZN</th>\n",
       "      <th>INDUS</th>\n",
       "      <th>CHAS</th>\n",
       "      <th>NOX</th>\n",
       "      <th>RM</th>\n",
       "      <th>AGE</th>\n",
       "      <th>DIS</th>\n",
       "      <th>RAD</th>\n",
       "      <th>TAX</th>\n",
       "      <th>PTRATIO</th>\n",
       "      <th>B</th>\n",
       "      <th>LSTAT</th>\n",
       "      <th>MEDV</th>\n",
       "    </tr>\n",
       "  </thead>\n",
       "  <tbody>\n",
       "    <tr>\n",
       "      <th>0</th>\n",
       "      <td>0.00632</td>\n",
       "      <td>18.0</td>\n",
       "      <td>2.31</td>\n",
       "      <td>0.0</td>\n",
       "      <td>0.538</td>\n",
       "      <td>6.575</td>\n",
       "      <td>65.2</td>\n",
       "      <td>4.0900</td>\n",
       "      <td>1</td>\n",
       "      <td>296</td>\n",
       "      <td>15.3</td>\n",
       "      <td>396.90</td>\n",
       "      <td>4.98</td>\n",
       "      <td>24.0</td>\n",
       "    </tr>\n",
       "    <tr>\n",
       "      <th>1</th>\n",
       "      <td>0.02731</td>\n",
       "      <td>0.0</td>\n",
       "      <td>7.07</td>\n",
       "      <td>0.0</td>\n",
       "      <td>0.469</td>\n",
       "      <td>6.421</td>\n",
       "      <td>78.9</td>\n",
       "      <td>4.9671</td>\n",
       "      <td>2</td>\n",
       "      <td>242</td>\n",
       "      <td>17.8</td>\n",
       "      <td>396.90</td>\n",
       "      <td>9.14</td>\n",
       "      <td>21.6</td>\n",
       "    </tr>\n",
       "    <tr>\n",
       "      <th>2</th>\n",
       "      <td>0.02729</td>\n",
       "      <td>0.0</td>\n",
       "      <td>7.07</td>\n",
       "      <td>0.0</td>\n",
       "      <td>0.469</td>\n",
       "      <td>7.185</td>\n",
       "      <td>61.1</td>\n",
       "      <td>4.9671</td>\n",
       "      <td>2</td>\n",
       "      <td>242</td>\n",
       "      <td>17.8</td>\n",
       "      <td>392.83</td>\n",
       "      <td>4.03</td>\n",
       "      <td>34.7</td>\n",
       "    </tr>\n",
       "    <tr>\n",
       "      <th>3</th>\n",
       "      <td>0.03237</td>\n",
       "      <td>0.0</td>\n",
       "      <td>2.18</td>\n",
       "      <td>0.0</td>\n",
       "      <td>0.458</td>\n",
       "      <td>6.998</td>\n",
       "      <td>45.8</td>\n",
       "      <td>6.0622</td>\n",
       "      <td>3</td>\n",
       "      <td>222</td>\n",
       "      <td>18.7</td>\n",
       "      <td>394.63</td>\n",
       "      <td>2.94</td>\n",
       "      <td>33.4</td>\n",
       "    </tr>\n",
       "    <tr>\n",
       "      <th>4</th>\n",
       "      <td>0.06905</td>\n",
       "      <td>0.0</td>\n",
       "      <td>2.18</td>\n",
       "      <td>0.0</td>\n",
       "      <td>0.458</td>\n",
       "      <td>7.147</td>\n",
       "      <td>54.2</td>\n",
       "      <td>6.0622</td>\n",
       "      <td>3</td>\n",
       "      <td>222</td>\n",
       "      <td>18.7</td>\n",
       "      <td>396.90</td>\n",
       "      <td>NaN</td>\n",
       "      <td>36.2</td>\n",
       "    </tr>\n",
       "    <tr>\n",
       "      <th>5</th>\n",
       "      <td>0.02985</td>\n",
       "      <td>0.0</td>\n",
       "      <td>2.18</td>\n",
       "      <td>0.0</td>\n",
       "      <td>0.458</td>\n",
       "      <td>6.430</td>\n",
       "      <td>58.7</td>\n",
       "      <td>6.0622</td>\n",
       "      <td>3</td>\n",
       "      <td>222</td>\n",
       "      <td>18.7</td>\n",
       "      <td>394.12</td>\n",
       "      <td>5.21</td>\n",
       "      <td>28.7</td>\n",
       "    </tr>\n",
       "    <tr>\n",
       "      <th>6</th>\n",
       "      <td>0.08829</td>\n",
       "      <td>12.5</td>\n",
       "      <td>7.87</td>\n",
       "      <td>NaN</td>\n",
       "      <td>0.524</td>\n",
       "      <td>6.012</td>\n",
       "      <td>66.6</td>\n",
       "      <td>5.5605</td>\n",
       "      <td>5</td>\n",
       "      <td>311</td>\n",
       "      <td>15.2</td>\n",
       "      <td>395.60</td>\n",
       "      <td>12.43</td>\n",
       "      <td>22.9</td>\n",
       "    </tr>\n",
       "    <tr>\n",
       "      <th>7</th>\n",
       "      <td>0.14455</td>\n",
       "      <td>12.5</td>\n",
       "      <td>7.87</td>\n",
       "      <td>0.0</td>\n",
       "      <td>0.524</td>\n",
       "      <td>6.172</td>\n",
       "      <td>96.1</td>\n",
       "      <td>5.9505</td>\n",
       "      <td>5</td>\n",
       "      <td>311</td>\n",
       "      <td>15.2</td>\n",
       "      <td>396.90</td>\n",
       "      <td>19.15</td>\n",
       "      <td>27.1</td>\n",
       "    </tr>\n",
       "    <tr>\n",
       "      <th>8</th>\n",
       "      <td>0.21124</td>\n",
       "      <td>12.5</td>\n",
       "      <td>7.87</td>\n",
       "      <td>0.0</td>\n",
       "      <td>0.524</td>\n",
       "      <td>5.631</td>\n",
       "      <td>100.0</td>\n",
       "      <td>6.0821</td>\n",
       "      <td>5</td>\n",
       "      <td>311</td>\n",
       "      <td>15.2</td>\n",
       "      <td>386.63</td>\n",
       "      <td>29.93</td>\n",
       "      <td>16.5</td>\n",
       "    </tr>\n",
       "    <tr>\n",
       "      <th>9</th>\n",
       "      <td>0.17004</td>\n",
       "      <td>12.5</td>\n",
       "      <td>7.87</td>\n",
       "      <td>NaN</td>\n",
       "      <td>0.524</td>\n",
       "      <td>6.004</td>\n",
       "      <td>85.9</td>\n",
       "      <td>6.5921</td>\n",
       "      <td>5</td>\n",
       "      <td>311</td>\n",
       "      <td>15.2</td>\n",
       "      <td>386.71</td>\n",
       "      <td>17.10</td>\n",
       "      <td>18.9</td>\n",
       "    </tr>\n",
       "  </tbody>\n",
       "</table>\n",
       "</div>"
      ],
      "text/plain": [
       "      CRIM    ZN  INDUS  CHAS    NOX     RM    AGE     DIS  RAD  TAX  PTRATIO  \\\n",
       "0  0.00632  18.0   2.31   0.0  0.538  6.575   65.2  4.0900    1  296     15.3   \n",
       "1  0.02731   0.0   7.07   0.0  0.469  6.421   78.9  4.9671    2  242     17.8   \n",
       "2  0.02729   0.0   7.07   0.0  0.469  7.185   61.1  4.9671    2  242     17.8   \n",
       "3  0.03237   0.0   2.18   0.0  0.458  6.998   45.8  6.0622    3  222     18.7   \n",
       "4  0.06905   0.0   2.18   0.0  0.458  7.147   54.2  6.0622    3  222     18.7   \n",
       "5  0.02985   0.0   2.18   0.0  0.458  6.430   58.7  6.0622    3  222     18.7   \n",
       "6  0.08829  12.5   7.87   NaN  0.524  6.012   66.6  5.5605    5  311     15.2   \n",
       "7  0.14455  12.5   7.87   0.0  0.524  6.172   96.1  5.9505    5  311     15.2   \n",
       "8  0.21124  12.5   7.87   0.0  0.524  5.631  100.0  6.0821    5  311     15.2   \n",
       "9  0.17004  12.5   7.87   NaN  0.524  6.004   85.9  6.5921    5  311     15.2   \n",
       "\n",
       "        B  LSTAT  MEDV  \n",
       "0  396.90   4.98  24.0  \n",
       "1  396.90   9.14  21.6  \n",
       "2  392.83   4.03  34.7  \n",
       "3  394.63   2.94  33.4  \n",
       "4  396.90    NaN  36.2  \n",
       "5  394.12   5.21  28.7  \n",
       "6  395.60  12.43  22.9  \n",
       "7  396.90  19.15  27.1  \n",
       "8  386.63  29.93  16.5  \n",
       "9  386.71  17.10  18.9  "
      ]
     },
     "execution_count": 3,
     "metadata": {},
     "output_type": "execute_result"
    }
   ],
   "source": [
    "df.head(10)"
   ]
  },
  {
   "cell_type": "code",
   "execution_count": 4,
   "metadata": {
    "colab": {
     "base_uri": "https://localhost:8080/"
    },
    "id": "eK_JRSl03_wj",
    "outputId": "39bca078-2b2d-42ba-adfa-af3f61797a72"
   },
   "outputs": [
    {
     "data": {
      "text/plain": [
       "CRIM       20\n",
       "ZN         20\n",
       "INDUS      20\n",
       "CHAS       20\n",
       "NOX         0\n",
       "RM          0\n",
       "AGE        20\n",
       "DIS         0\n",
       "RAD         0\n",
       "TAX         0\n",
       "PTRATIO     0\n",
       "B           0\n",
       "LSTAT      20\n",
       "MEDV        0\n",
       "dtype: int64"
      ]
     },
     "execution_count": 4,
     "metadata": {},
     "output_type": "execute_result"
    }
   ],
   "source": [
    "df.isnull().sum()"
   ]
  },
  {
   "cell_type": "code",
   "execution_count": 5,
   "metadata": {
    "id": "Afpk5CC0y9b9"
   },
   "outputs": [],
   "source": [
    "df = df.fillna(df.mean())"
   ]
  },
  {
   "cell_type": "code",
   "execution_count": 6,
   "metadata": {
    "colab": {
     "base_uri": "https://localhost:8080/"
    },
    "id": "leDzLvIQzAMl",
    "outputId": "cc2bc552-bb4f-4863-8d0d-b112c59cb009"
   },
   "outputs": [
    {
     "data": {
      "text/plain": [
       "CRIM       0\n",
       "ZN         0\n",
       "INDUS      0\n",
       "CHAS       0\n",
       "NOX        0\n",
       "RM         0\n",
       "AGE        0\n",
       "DIS        0\n",
       "RAD        0\n",
       "TAX        0\n",
       "PTRATIO    0\n",
       "B          0\n",
       "LSTAT      0\n",
       "MEDV       0\n",
       "dtype: int64"
      ]
     },
     "execution_count": 6,
     "metadata": {},
     "output_type": "execute_result"
    }
   ],
   "source": [
    "df.isnull().sum()"
   ]
  },
  {
   "cell_type": "code",
   "execution_count": 7,
   "metadata": {
    "id": "lldSDwHh3WzH"
   },
   "outputs": [],
   "source": [
    "from sklearn.model_selection import train_test_split\n",
    "\n",
    "X = df.loc[:, df.columns != 'MEDV']\n",
    "y = df.loc[:, df.columns == 'MEDV']\n",
    "X_train, X_test, y_train, y_test = train_test_split(X, y, test_size=0.3, random_state=123)"
   ]
  },
  {
   "cell_type": "code",
   "execution_count": 8,
   "metadata": {
    "colab": {
     "base_uri": "https://localhost:8080/"
    },
    "id": "yq5NjVaQy5GG",
    "outputId": "171cebbc-38bc-44b9-8348-b8caf52f2f47"
   },
   "outputs": [
    {
     "name": "stdout",
     "output_type": "stream",
     "text": [
      "Model: \"sequential\"\n",
      "_________________________________________________________________\n",
      " Layer (type)                Output Shape              Param #   \n",
      "=================================================================\n",
      " dense_1 (Dense)             (None, 128)               1792      \n",
      "                                                                 \n",
      " dense_2 (Dense)             (None, 64)                8256      \n",
      "                                                                 \n",
      " dense_output (Dense)        (None, 1)                 65        \n",
      "                                                                 \n",
      "=================================================================\n",
      "Total params: 10,113\n",
      "Trainable params: 10,113\n",
      "Non-trainable params: 0\n",
      "_________________________________________________________________\n"
     ]
    }
   ],
   "source": [
    "from keras.models import Sequential\n",
    "from keras.layers import Dense\n",
    "\n",
    "model = Sequential()\n",
    "\n",
    "model.add(Dense(128, input_shape=(13, ), activation='relu', name='dense_1'))\n",
    "model.add(Dense(64, activation='relu', name='dense_2'))\n",
    "model.add(Dense(1, activation='linear', name='dense_output'))\n",
    "\n",
    "model.compile(optimizer='adam', loss='mse', metrics=['mae'])\n",
    "model.summary()"
   ]
  },
  {
   "cell_type": "code",
   "execution_count": 9,
   "metadata": {
    "colab": {
     "base_uri": "https://localhost:8080/"
    },
    "id": "OiP4Pyxcy7Ag",
    "outputId": "c300130c-1f42-42d3-a51f-6fa3f3da3051"
   },
   "outputs": [
    {
     "name": "stdout",
     "output_type": "stream",
     "text": [
      "Epoch 1/100\n",
      "11/11 [==============================] - 2s 79ms/step - loss: 469.3152 - mae: 15.8647 - val_loss: 150.8054 - val_mae: 7.3001\n",
      "Epoch 2/100\n",
      "11/11 [==============================] - 0s 12ms/step - loss: 142.3673 - mae: 9.6900 - val_loss: 119.9122 - val_mae: 6.2263\n",
      "Epoch 3/100\n",
      "11/11 [==============================] - 0s 13ms/step - loss: 89.5171 - mae: 6.8017 - val_loss: 91.7246 - val_mae: 6.0909\n",
      "Epoch 4/100\n",
      "11/11 [==============================] - 0s 12ms/step - loss: 65.8761 - mae: 5.6369 - val_loss: 108.4686 - val_mae: 8.5204\n",
      "Epoch 5/100\n",
      "11/11 [==============================] - 0s 12ms/step - loss: 67.9351 - mae: 6.1350 - val_loss: 98.0338 - val_mae: 7.5820\n",
      "Epoch 6/100\n",
      "11/11 [==============================] - 0s 13ms/step - loss: 62.5802 - mae: 5.6111 - val_loss: 98.1583 - val_mae: 7.6995\n",
      "Epoch 7/100\n",
      "11/11 [==============================] - 0s 16ms/step - loss: 59.3536 - mae: 5.5125 - val_loss: 105.0174 - val_mae: 8.3718\n",
      "Epoch 8/100\n",
      "11/11 [==============================] - 0s 17ms/step - loss: 58.4184 - mae: 5.5674 - val_loss: 92.0261 - val_mae: 6.8302\n",
      "Epoch 9/100\n",
      "11/11 [==============================] - 0s 16ms/step - loss: 56.6349 - mae: 5.3699 - val_loss: 95.2239 - val_mae: 6.9621\n",
      "Epoch 10/100\n",
      "11/11 [==============================] - 0s 17ms/step - loss: 54.4062 - mae: 5.1618 - val_loss: 93.7092 - val_mae: 6.7677\n",
      "Epoch 11/100\n",
      "11/11 [==============================] - 0s 17ms/step - loss: 55.8651 - mae: 5.0937 - val_loss: 96.1705 - val_mae: 7.9352\n",
      "Epoch 12/100\n",
      "11/11 [==============================] - 0s 17ms/step - loss: 55.0377 - mae: 5.4056 - val_loss: 97.9076 - val_mae: 8.3463\n",
      "Epoch 13/100\n",
      "11/11 [==============================] - 0s 12ms/step - loss: 60.8017 - mae: 5.7797 - val_loss: 90.3340 - val_mae: 7.3539\n",
      "Epoch 14/100\n",
      "11/11 [==============================] - 0s 13ms/step - loss: 51.8253 - mae: 5.0905 - val_loss: 83.0649 - val_mae: 6.8704\n",
      "Epoch 15/100\n",
      "11/11 [==============================] - 0s 11ms/step - loss: 52.6709 - mae: 4.9947 - val_loss: 86.1716 - val_mae: 6.5770\n",
      "Epoch 16/100\n",
      "11/11 [==============================] - 0s 12ms/step - loss: 51.5022 - mae: 5.0210 - val_loss: 86.1179 - val_mae: 7.7325\n",
      "Epoch 17/100\n",
      "11/11 [==============================] - 0s 11ms/step - loss: 54.0758 - mae: 5.3435 - val_loss: 88.2459 - val_mae: 7.9338\n",
      "Epoch 18/100\n",
      "11/11 [==============================] - 0s 11ms/step - loss: 54.3042 - mae: 5.4606 - val_loss: 86.3507 - val_mae: 6.0412\n",
      "Epoch 19/100\n",
      "11/11 [==============================] - 0s 15ms/step - loss: 60.8264 - mae: 5.6235 - val_loss: 85.3890 - val_mae: 6.3383\n",
      "Epoch 20/100\n",
      "11/11 [==============================] - 0s 11ms/step - loss: 51.5557 - mae: 5.0266 - val_loss: 81.5295 - val_mae: 7.6115\n",
      "Epoch 21/100\n",
      "11/11 [==============================] - 0s 12ms/step - loss: 48.1927 - mae: 5.1136 - val_loss: 77.3611 - val_mae: 7.1954\n",
      "Epoch 22/100\n",
      "11/11 [==============================] - 0s 12ms/step - loss: 47.6914 - mae: 4.8855 - val_loss: 79.5889 - val_mae: 6.0405\n",
      "Epoch 23/100\n",
      "11/11 [==============================] - 0s 12ms/step - loss: 43.6078 - mae: 4.6664 - val_loss: 80.6562 - val_mae: 5.9783\n",
      "Epoch 24/100\n",
      "11/11 [==============================] - 0s 12ms/step - loss: 44.3953 - mae: 4.6680 - val_loss: 74.6023 - val_mae: 7.0608\n",
      "Epoch 25/100\n",
      "11/11 [==============================] - 0s 11ms/step - loss: 42.4993 - mae: 4.6822 - val_loss: 83.8658 - val_mae: 5.5501\n",
      "Epoch 26/100\n",
      "11/11 [==============================] - 0s 10ms/step - loss: 43.0346 - mae: 4.4172 - val_loss: 70.7276 - val_mae: 6.4390\n",
      "Epoch 27/100\n",
      "11/11 [==============================] - 0s 10ms/step - loss: 40.1279 - mae: 4.4542 - val_loss: 71.5836 - val_mae: 6.1270\n",
      "Epoch 28/100\n",
      "11/11 [==============================] - 0s 11ms/step - loss: 40.2608 - mae: 4.4584 - val_loss: 73.7290 - val_mae: 5.6618\n",
      "Epoch 29/100\n",
      "11/11 [==============================] - 0s 10ms/step - loss: 40.7417 - mae: 4.4237 - val_loss: 76.0623 - val_mae: 5.8368\n",
      "Epoch 30/100\n",
      "11/11 [==============================] - 0s 11ms/step - loss: 40.3678 - mae: 4.3313 - val_loss: 69.3279 - val_mae: 5.7687\n",
      "Epoch 31/100\n",
      "11/11 [==============================] - 0s 9ms/step - loss: 40.3590 - mae: 4.3836 - val_loss: 70.1541 - val_mae: 6.9520\n",
      "Epoch 32/100\n",
      "11/11 [==============================] - 0s 11ms/step - loss: 42.5155 - mae: 4.6903 - val_loss: 74.8732 - val_mae: 5.6567\n",
      "Epoch 33/100\n",
      "11/11 [==============================] - 0s 11ms/step - loss: 39.1094 - mae: 4.3625 - val_loss: 65.9125 - val_mae: 6.3492\n",
      "Epoch 34/100\n",
      "11/11 [==============================] - 0s 12ms/step - loss: 42.8992 - mae: 4.5153 - val_loss: 67.7830 - val_mae: 6.1172\n",
      "Epoch 35/100\n",
      "11/11 [==============================] - 0s 11ms/step - loss: 42.7217 - mae: 4.8279 - val_loss: 74.0672 - val_mae: 5.5735\n",
      "Epoch 36/100\n",
      "11/11 [==============================] - 0s 11ms/step - loss: 37.4260 - mae: 4.1501 - val_loss: 65.2859 - val_mae: 6.4803\n",
      "Epoch 37/100\n",
      "11/11 [==============================] - 0s 12ms/step - loss: 35.2813 - mae: 4.2595 - val_loss: 69.5852 - val_mae: 5.6552\n",
      "Epoch 38/100\n",
      "11/11 [==============================] - 0s 14ms/step - loss: 36.7625 - mae: 4.2183 - val_loss: 67.8098 - val_mae: 6.0165\n",
      "Epoch 39/100\n",
      "11/11 [==============================] - 0s 12ms/step - loss: 39.2850 - mae: 4.4710 - val_loss: 67.4815 - val_mae: 5.9780\n",
      "Epoch 40/100\n",
      "11/11 [==============================] - 0s 10ms/step - loss: 41.9561 - mae: 4.6067 - val_loss: 65.9189 - val_mae: 5.9360\n",
      "Epoch 41/100\n",
      "11/11 [==============================] - 0s 11ms/step - loss: 40.0511 - mae: 4.5438 - val_loss: 66.7966 - val_mae: 6.6782\n",
      "Epoch 42/100\n",
      "11/11 [==============================] - 0s 14ms/step - loss: 38.8939 - mae: 4.5736 - val_loss: 77.2278 - val_mae: 5.6537\n",
      "Epoch 43/100\n",
      "11/11 [==============================] - 0s 17ms/step - loss: 34.1843 - mae: 4.0545 - val_loss: 66.2612 - val_mae: 6.7627\n",
      "Epoch 44/100\n",
      "11/11 [==============================] - 0s 15ms/step - loss: 40.1672 - mae: 4.8213 - val_loss: 68.7073 - val_mae: 6.0026\n",
      "Epoch 45/100\n",
      "11/11 [==============================] - 0s 18ms/step - loss: 38.9044 - mae: 4.4343 - val_loss: 69.8011 - val_mae: 6.0798\n",
      "Epoch 46/100\n",
      "11/11 [==============================] - 0s 17ms/step - loss: 36.6178 - mae: 4.4710 - val_loss: 68.5818 - val_mae: 5.7274\n",
      "Epoch 47/100\n",
      "11/11 [==============================] - 0s 17ms/step - loss: 32.9248 - mae: 4.0425 - val_loss: 76.1303 - val_mae: 5.9252\n",
      "Epoch 48/100\n",
      "11/11 [==============================] - 0s 15ms/step - loss: 33.3460 - mae: 4.0186 - val_loss: 66.6107 - val_mae: 5.8996\n",
      "Epoch 49/100\n",
      "11/11 [==============================] - 0s 16ms/step - loss: 31.7564 - mae: 4.0158 - val_loss: 75.2481 - val_mae: 5.7082\n",
      "Epoch 50/100\n",
      "11/11 [==============================] - 0s 14ms/step - loss: 33.2211 - mae: 3.9886 - val_loss: 68.3235 - val_mae: 5.8691\n",
      "Epoch 51/100\n",
      "11/11 [==============================] - 0s 12ms/step - loss: 32.5751 - mae: 4.0413 - val_loss: 82.4447 - val_mae: 5.8145\n",
      "Epoch 52/100\n",
      "11/11 [==============================] - 0s 9ms/step - loss: 32.9168 - mae: 4.1890 - val_loss: 69.3299 - val_mae: 7.0654\n",
      "Epoch 53/100\n",
      "11/11 [==============================] - 0s 10ms/step - loss: 46.9151 - mae: 5.1784 - val_loss: 78.3764 - val_mae: 6.1272\n",
      "Epoch 54/100\n",
      "11/11 [==============================] - 0s 10ms/step - loss: 42.6642 - mae: 4.9527 - val_loss: 66.9104 - val_mae: 6.0674\n",
      "Epoch 55/100\n",
      "11/11 [==============================] - 0s 10ms/step - loss: 31.9820 - mae: 3.9083 - val_loss: 67.4644 - val_mae: 5.7841\n",
      "Epoch 56/100\n",
      "11/11 [==============================] - 0s 10ms/step - loss: 30.7171 - mae: 4.0448 - val_loss: 80.4009 - val_mae: 5.9710\n",
      "Epoch 57/100\n",
      "11/11 [==============================] - 0s 12ms/step - loss: 31.8638 - mae: 3.9746 - val_loss: 75.0909 - val_mae: 5.8334\n",
      "Epoch 58/100\n",
      "11/11 [==============================] - 0s 14ms/step - loss: 29.7322 - mae: 3.9214 - val_loss: 67.6430 - val_mae: 5.8100\n",
      "Epoch 59/100\n",
      "11/11 [==============================] - 0s 14ms/step - loss: 30.9346 - mae: 3.8962 - val_loss: 69.6581 - val_mae: 5.7279\n",
      "Epoch 60/100\n",
      "11/11 [==============================] - 0s 14ms/step - loss: 30.0622 - mae: 3.9386 - val_loss: 68.2364 - val_mae: 5.9398\n",
      "Epoch 61/100\n",
      "11/11 [==============================] - 0s 13ms/step - loss: 29.3883 - mae: 3.9222 - val_loss: 84.3519 - val_mae: 5.9854\n"
     ]
    },
    {
     "name": "stdout",
     "output_type": "stream",
     "text": [
      "Epoch 62/100\n",
      "11/11 [==============================] - 0s 13ms/step - loss: 31.3312 - mae: 3.8133 - val_loss: 69.1125 - val_mae: 5.8782\n",
      "Epoch 63/100\n",
      "11/11 [==============================] - 0s 14ms/step - loss: 31.7039 - mae: 4.1036 - val_loss: 76.9119 - val_mae: 6.0251\n",
      "Epoch 64/100\n",
      "11/11 [==============================] - 0s 13ms/step - loss: 34.0935 - mae: 4.1760 - val_loss: 68.5613 - val_mae: 5.8438\n",
      "Epoch 65/100\n",
      "11/11 [==============================] - 0s 16ms/step - loss: 37.3634 - mae: 4.5534 - val_loss: 97.4785 - val_mae: 6.6317\n",
      "Epoch 66/100\n",
      "11/11 [==============================] - 0s 13ms/step - loss: 42.3841 - mae: 4.9356 - val_loss: 75.1516 - val_mae: 5.7791\n",
      "Epoch 67/100\n",
      "11/11 [==============================] - 0s 10ms/step - loss: 32.9141 - mae: 3.9526 - val_loss: 72.6514 - val_mae: 5.9067\n",
      "Epoch 68/100\n",
      "11/11 [==============================] - 0s 8ms/step - loss: 32.7801 - mae: 4.2956 - val_loss: 87.3662 - val_mae: 6.3332\n",
      "Epoch 69/100\n",
      "11/11 [==============================] - 0s 7ms/step - loss: 31.8469 - mae: 4.1052 - val_loss: 64.0287 - val_mae: 6.1176\n",
      "Epoch 70/100\n",
      "11/11 [==============================] - 0s 8ms/step - loss: 28.4645 - mae: 3.8987 - val_loss: 76.5982 - val_mae: 5.7307\n",
      "Epoch 71/100\n",
      "11/11 [==============================] - 0s 10ms/step - loss: 30.7685 - mae: 3.9101 - val_loss: 69.2982 - val_mae: 5.8665\n",
      "Epoch 72/100\n",
      "11/11 [==============================] - 0s 12ms/step - loss: 31.4714 - mae: 4.0668 - val_loss: 70.0076 - val_mae: 5.8604\n",
      "Epoch 73/100\n",
      "11/11 [==============================] - 0s 11ms/step - loss: 35.3344 - mae: 4.3781 - val_loss: 91.4941 - val_mae: 6.7036\n",
      "Epoch 74/100\n",
      "11/11 [==============================] - 0s 11ms/step - loss: 35.9718 - mae: 4.5607 - val_loss: 68.7716 - val_mae: 7.2473\n",
      "Epoch 75/100\n",
      "11/11 [==============================] - 0s 7ms/step - loss: 32.4456 - mae: 4.1641 - val_loss: 64.8110 - val_mae: 5.6124\n",
      "Epoch 76/100\n",
      "11/11 [==============================] - 0s 7ms/step - loss: 27.0853 - mae: 3.7494 - val_loss: 72.1089 - val_mae: 5.7089\n",
      "Epoch 77/100\n",
      "11/11 [==============================] - 0s 7ms/step - loss: 29.1084 - mae: 3.9888 - val_loss: 76.9466 - val_mae: 5.8814\n",
      "Epoch 78/100\n",
      "11/11 [==============================] - 0s 8ms/step - loss: 26.8046 - mae: 3.6375 - val_loss: 77.5845 - val_mae: 5.8800\n",
      "Epoch 79/100\n",
      "11/11 [==============================] - 0s 8ms/step - loss: 27.1242 - mae: 3.6405 - val_loss: 65.1898 - val_mae: 6.2438\n",
      "Epoch 80/100\n",
      "11/11 [==============================] - 0s 8ms/step - loss: 29.5230 - mae: 3.9711 - val_loss: 75.9833 - val_mae: 5.8347\n",
      "Epoch 81/100\n",
      "11/11 [==============================] - 0s 8ms/step - loss: 30.5510 - mae: 4.0510 - val_loss: 80.3774 - val_mae: 6.1141\n",
      "Epoch 82/100\n",
      "11/11 [==============================] - 0s 7ms/step - loss: 28.7866 - mae: 3.8019 - val_loss: 63.3079 - val_mae: 5.8969\n",
      "Epoch 83/100\n",
      "11/11 [==============================] - 0s 11ms/step - loss: 30.6800 - mae: 4.0936 - val_loss: 73.0260 - val_mae: 5.8327\n",
      "Epoch 84/100\n",
      "11/11 [==============================] - 0s 8ms/step - loss: 27.2451 - mae: 3.7808 - val_loss: 96.8933 - val_mae: 6.8844\n",
      "Epoch 85/100\n",
      "11/11 [==============================] - 0s 7ms/step - loss: 28.6900 - mae: 3.8921 - val_loss: 68.3400 - val_mae: 5.8195\n",
      "Epoch 86/100\n",
      "11/11 [==============================] - 0s 8ms/step - loss: 27.2122 - mae: 3.6967 - val_loss: 73.7315 - val_mae: 5.8035\n",
      "Epoch 87/100\n",
      "11/11 [==============================] - 0s 8ms/step - loss: 26.8338 - mae: 3.7369 - val_loss: 75.4243 - val_mae: 5.7894\n",
      "Epoch 88/100\n",
      "11/11 [==============================] - 0s 7ms/step - loss: 27.5164 - mae: 3.8121 - val_loss: 62.4615 - val_mae: 6.0333\n",
      "Epoch 89/100\n",
      "11/11 [==============================] - 0s 8ms/step - loss: 31.6501 - mae: 4.2185 - val_loss: 75.0967 - val_mae: 5.7678\n",
      "Epoch 90/100\n",
      "11/11 [==============================] - 0s 9ms/step - loss: 24.2452 - mae: 3.5663 - val_loss: 66.9969 - val_mae: 5.7998\n",
      "Epoch 91/100\n",
      "11/11 [==============================] - 0s 11ms/step - loss: 30.6575 - mae: 3.9649 - val_loss: 69.1643 - val_mae: 5.5583\n",
      "Epoch 92/100\n",
      "11/11 [==============================] - 0s 10ms/step - loss: 28.2986 - mae: 3.8939 - val_loss: 64.3402 - val_mae: 5.7492\n",
      "Epoch 93/100\n",
      "11/11 [==============================] - 0s 9ms/step - loss: 26.6196 - mae: 3.9001 - val_loss: 70.2685 - val_mae: 5.8295\n",
      "Epoch 94/100\n",
      "11/11 [==============================] - 0s 10ms/step - loss: 24.5064 - mae: 3.5853 - val_loss: 66.6845 - val_mae: 6.6692\n",
      "Epoch 95/100\n",
      "11/11 [==============================] - 0s 7ms/step - loss: 36.8399 - mae: 4.6676 - val_loss: 74.6097 - val_mae: 5.8482\n",
      "Epoch 96/100\n",
      "11/11 [==============================] - 0s 9ms/step - loss: 27.9342 - mae: 3.8966 - val_loss: 71.7530 - val_mae: 6.0180\n",
      "Epoch 97/100\n",
      "11/11 [==============================] - 0s 9ms/step - loss: 25.2916 - mae: 3.6450 - val_loss: 67.3148 - val_mae: 5.5756\n",
      "Epoch 98/100\n",
      "11/11 [==============================] - 0s 10ms/step - loss: 26.6229 - mae: 3.8188 - val_loss: 67.4972 - val_mae: 5.7429\n",
      "Epoch 99/100\n",
      "11/11 [==============================] - 0s 10ms/step - loss: 29.9356 - mae: 4.0526 - val_loss: 68.6225 - val_mae: 6.9155\n",
      "Epoch 100/100\n",
      "11/11 [==============================] - 0s 11ms/step - loss: 47.0451 - mae: 5.3575 - val_loss: 105.0887 - val_mae: 7.6625\n"
     ]
    }
   ],
   "source": [
    "history = model.fit(X_train, y_train, epochs=100, validation_split=0.05, verbose = 1)"
   ]
  },
  {
   "cell_type": "code",
   "execution_count": 10,
   "metadata": {
    "colab": {
     "base_uri": "https://localhost:8080/"
    },
    "id": "3uH8kFnx317C",
    "outputId": "2fb39e5a-7bc8-4ea2-d9af-d43dd3a0082f"
   },
   "outputs": [
    {
     "name": "stdout",
     "output_type": "stream",
     "text": [
      "5/5 [==============================] - 0s 3ms/step - loss: 38.7671 - mae: 4.3254\n",
      "Mean squared error on test data:  38.76713562011719\n",
      "Mean absolute error on test data:  4.325376510620117\n"
     ]
    }
   ],
   "source": [
    "mse_nn, mae_nn = model.evaluate(X_test, y_test)\n",
    "\n",
    "print('Mean squared error on test data: ', mse_nn)\n",
    "print('Mean absolute error on test data: ', mae_nn)\n",
    "     "
   ]
  },
  {
   "cell_type": "code",
   "execution_count": 11,
   "metadata": {
    "colab": {
     "base_uri": "https://localhost:8080/"
    },
    "id": "8swEKNyFyXdQ",
    "outputId": "18778981-1879-40a6-e2c7-69cb4d63babb"
   },
   "outputs": [
    {
     "name": "stdout",
     "output_type": "stream",
     "text": [
      "5/5 [==============================] - 0s 4ms/step\n"
     ]
    }
   ],
   "source": [
    "y_pred = model.predict(X_test)"
   ]
  },
  {
   "cell_type": "code",
   "execution_count": 12,
   "metadata": {
    "colab": {
     "base_uri": "https://localhost:8080/"
    },
    "id": "1Ai5cqioyfpK",
    "outputId": "9a83cdae-c5cd-431c-e609-058f5e4dd94e"
   },
   "outputs": [
    {
     "data": {
      "text/plain": [
       "6.226325666529322"
      ]
     },
     "execution_count": 12,
     "metadata": {},
     "output_type": "execute_result"
    }
   ],
   "source": [
    "mse = mean_squared_error(y_test, y_pred)**(0.5)\n",
    "mse"
   ]
  },
  {
   "cell_type": "code",
   "execution_count": 14,
   "metadata": {
    "colab": {
     "base_uri": "https://localhost:8080/"
    },
    "id": "c9uAYbStz2nY",
    "outputId": "b0390233-1364-4a12-826a-509e4b22c266"
   },
   "outputs": [
    {
     "name": "stdout",
     "output_type": "stream",
     "text": [
      "1/1 [==============================] - 0s 30ms/step\n",
      "Predicted house price: 21.326237\n"
     ]
    }
   ],
   "source": [
    "\n",
    "input_data = np.array([[0.02731,0.0,7.07,0.0,0.469,6.421,78.9,4.9671,2,242,17.8,396.9,9.14]])\n",
    "predictions = model.predict(input_data)\n",
    "print(\"Predicted house price:\", predictions[0][0])\n"
   ]
  },
  {
   "cell_type": "code",
   "execution_count": null,
   "metadata": {},
   "outputs": [],
   "source": []
  },
  {
   "cell_type": "code",
   "execution_count": null,
   "metadata": {},
   "outputs": [],
   "source": []
  }
 ],
 "metadata": {
  "colab": {
   "provenance": []
  },
  "kernelspec": {
   "display_name": "Python 3 (ipykernel)",
   "language": "python",
   "name": "python3"
  },
  "language_info": {
   "codemirror_mode": {
    "name": "ipython",
    "version": 3
   },
   "file_extension": ".py",
   "mimetype": "text/x-python",
   "name": "python",
   "nbconvert_exporter": "python",
   "pygments_lexer": "ipython3",
   "version": "3.9.12"
  }
 },
 "nbformat": 4,
 "nbformat_minor": 1
}
