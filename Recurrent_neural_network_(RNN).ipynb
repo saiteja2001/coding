{
 "cells": [
  {
   "cell_type": "code",
   "execution_count": 1,
   "metadata": {
    "id": "AmcZqp1mGaqV"
   },
   "outputs": [],
   "source": [
    "import numpy as np \n",
    "import pandas as pd \n",
    "import matplotlib.pyplot as plt\n",
    "from sklearn.preprocessing import MinMaxScaler\n",
    "from keras.models import Sequential\n",
    "from keras.layers import Dense\n",
    "from keras.layers import LSTM\n",
    "from keras.layers import Dropout\n"
   ]
  },
  {
   "cell_type": "code",
   "execution_count": 2,
   "metadata": {
    "id": "FcuBzoFLIVHq"
   },
   "outputs": [],
   "source": [
    "dataset_train = pd.read_csv(\"trainset.csv\")"
   ]
  },
  {
   "cell_type": "code",
   "execution_count": 3,
   "metadata": {
    "colab": {
     "base_uri": "https://localhost:8080/",
     "height": 363
    },
    "id": "yo6fST36JUeB",
    "outputId": "82e32dae-8348-415d-d847-b3eea595d0e0"
   },
   "outputs": [
    {
     "data": {
      "text/html": [
       "<div>\n",
       "<style scoped>\n",
       "    .dataframe tbody tr th:only-of-type {\n",
       "        vertical-align: middle;\n",
       "    }\n",
       "\n",
       "    .dataframe tbody tr th {\n",
       "        vertical-align: top;\n",
       "    }\n",
       "\n",
       "    .dataframe thead th {\n",
       "        text-align: right;\n",
       "    }\n",
       "</style>\n",
       "<table border=\"1\" class=\"dataframe\">\n",
       "  <thead>\n",
       "    <tr style=\"text-align: right;\">\n",
       "      <th></th>\n",
       "      <th>Date</th>\n",
       "      <th>Open</th>\n",
       "      <th>High</th>\n",
       "      <th>Low</th>\n",
       "      <th>Close</th>\n",
       "      <th>Adj Close</th>\n",
       "      <th>Volume</th>\n",
       "    </tr>\n",
       "  </thead>\n",
       "  <tbody>\n",
       "    <tr>\n",
       "      <th>0</th>\n",
       "      <td>2013-01-02</td>\n",
       "      <td>357.385559</td>\n",
       "      <td>361.151062</td>\n",
       "      <td>355.959839</td>\n",
       "      <td>359.288177</td>\n",
       "      <td>359.288177</td>\n",
       "      <td>5115500</td>\n",
       "    </tr>\n",
       "    <tr>\n",
       "      <th>1</th>\n",
       "      <td>2013-01-03</td>\n",
       "      <td>360.122742</td>\n",
       "      <td>363.600128</td>\n",
       "      <td>358.031342</td>\n",
       "      <td>359.496826</td>\n",
       "      <td>359.496826</td>\n",
       "      <td>4666500</td>\n",
       "    </tr>\n",
       "    <tr>\n",
       "      <th>2</th>\n",
       "      <td>2013-01-04</td>\n",
       "      <td>362.313507</td>\n",
       "      <td>368.339294</td>\n",
       "      <td>361.488861</td>\n",
       "      <td>366.600616</td>\n",
       "      <td>366.600616</td>\n",
       "      <td>5562800</td>\n",
       "    </tr>\n",
       "    <tr>\n",
       "      <th>3</th>\n",
       "      <td>2013-01-07</td>\n",
       "      <td>365.348755</td>\n",
       "      <td>367.301056</td>\n",
       "      <td>362.929504</td>\n",
       "      <td>365.001007</td>\n",
       "      <td>365.001007</td>\n",
       "      <td>3332900</td>\n",
       "    </tr>\n",
       "    <tr>\n",
       "      <th>4</th>\n",
       "      <td>2013-01-08</td>\n",
       "      <td>365.393463</td>\n",
       "      <td>365.771027</td>\n",
       "      <td>359.874359</td>\n",
       "      <td>364.280701</td>\n",
       "      <td>364.280701</td>\n",
       "      <td>3373900</td>\n",
       "    </tr>\n",
       "    <tr>\n",
       "      <th>5</th>\n",
       "      <td>2013-01-09</td>\n",
       "      <td>363.769043</td>\n",
       "      <td>366.789398</td>\n",
       "      <td>361.945892</td>\n",
       "      <td>366.675140</td>\n",
       "      <td>366.675140</td>\n",
       "      <td>4075700</td>\n",
       "    </tr>\n",
       "    <tr>\n",
       "      <th>6</th>\n",
       "      <td>2013-01-10</td>\n",
       "      <td>369.014923</td>\n",
       "      <td>370.092896</td>\n",
       "      <td>364.380066</td>\n",
       "      <td>368.344269</td>\n",
       "      <td>368.344269</td>\n",
       "      <td>3695100</td>\n",
       "    </tr>\n",
       "    <tr>\n",
       "      <th>7</th>\n",
       "      <td>2013-01-11</td>\n",
       "      <td>368.602600</td>\n",
       "      <td>368.816193</td>\n",
       "      <td>365.771027</td>\n",
       "      <td>367.604095</td>\n",
       "      <td>367.604095</td>\n",
       "      <td>2587000</td>\n",
       "    </tr>\n",
       "    <tr>\n",
       "      <th>8</th>\n",
       "      <td>2013-01-14</td>\n",
       "      <td>366.118744</td>\n",
       "      <td>368.701935</td>\n",
       "      <td>358.841095</td>\n",
       "      <td>359.288177</td>\n",
       "      <td>359.288177</td>\n",
       "      <td>5765000</td>\n",
       "    </tr>\n",
       "    <tr>\n",
       "      <th>9</th>\n",
       "      <td>2013-01-15</td>\n",
       "      <td>357.340851</td>\n",
       "      <td>365.125214</td>\n",
       "      <td>353.749207</td>\n",
       "      <td>360.122742</td>\n",
       "      <td>360.122742</td>\n",
       "      <td>7906300</td>\n",
       "    </tr>\n",
       "  </tbody>\n",
       "</table>\n",
       "</div>"
      ],
      "text/plain": [
       "         Date        Open        High         Low       Close   Adj Close  \\\n",
       "0  2013-01-02  357.385559  361.151062  355.959839  359.288177  359.288177   \n",
       "1  2013-01-03  360.122742  363.600128  358.031342  359.496826  359.496826   \n",
       "2  2013-01-04  362.313507  368.339294  361.488861  366.600616  366.600616   \n",
       "3  2013-01-07  365.348755  367.301056  362.929504  365.001007  365.001007   \n",
       "4  2013-01-08  365.393463  365.771027  359.874359  364.280701  364.280701   \n",
       "5  2013-01-09  363.769043  366.789398  361.945892  366.675140  366.675140   \n",
       "6  2013-01-10  369.014923  370.092896  364.380066  368.344269  368.344269   \n",
       "7  2013-01-11  368.602600  368.816193  365.771027  367.604095  367.604095   \n",
       "8  2013-01-14  366.118744  368.701935  358.841095  359.288177  359.288177   \n",
       "9  2013-01-15  357.340851  365.125214  353.749207  360.122742  360.122742   \n",
       "\n",
       "    Volume  \n",
       "0  5115500  \n",
       "1  4666500  \n",
       "2  5562800  \n",
       "3  3332900  \n",
       "4  3373900  \n",
       "5  4075700  \n",
       "6  3695100  \n",
       "7  2587000  \n",
       "8  5765000  \n",
       "9  7906300  "
      ]
     },
     "execution_count": 3,
     "metadata": {},
     "output_type": "execute_result"
    }
   ],
   "source": [
    "dataset_train.head(10)"
   ]
  },
  {
   "cell_type": "code",
   "execution_count": 4,
   "metadata": {
    "id": "7DH3fF9pJW-7"
   },
   "outputs": [],
   "source": [
    "trainset = dataset_train.iloc[:,1:2].values"
   ]
  },
  {
   "cell_type": "code",
   "execution_count": 5,
   "metadata": {
    "colab": {
     "base_uri": "https://localhost:8080/"
    },
    "id": "Cwl5_hNfJc92",
    "outputId": "bb7b1f25-f4b4-45a5-bd2e-c842a6a03c51"
   },
   "outputs": [
    {
     "data": {
      "text/plain": [
       "array([[ 357.385559],\n",
       "       [ 360.122742],\n",
       "       [ 362.313507],\n",
       "       ...,\n",
       "       [1057.390015],\n",
       "       [1051.599976],\n",
       "       [1046.719971]])"
      ]
     },
     "execution_count": 5,
     "metadata": {},
     "output_type": "execute_result"
    }
   ],
   "source": [
    "trainset"
   ]
  },
  {
   "cell_type": "code",
   "execution_count": 6,
   "metadata": {
    "id": "X60SuWeHJhTs"
   },
   "outputs": [],
   "source": [
    "sc = MinMaxScaler(feature_range = (0,1))\n",
    "training_scaled = sc.fit_transform(trainset)"
   ]
  },
  {
   "cell_type": "code",
   "execution_count": 7,
   "metadata": {
    "colab": {
     "base_uri": "https://localhost:8080/"
    },
    "id": "QZDaZzVaJkxt",
    "outputId": "21af8e32-56cd-4420-ff8c-83f01a41af5e"
   },
   "outputs": [
    {
     "data": {
      "text/plain": [
       "array([[0.01011148],\n",
       "       [0.01388614],\n",
       "       [0.01690727],\n",
       "       ...,\n",
       "       [0.97543954],\n",
       "       [0.9674549 ],\n",
       "       [0.96072522]])"
      ]
     },
     "execution_count": 7,
     "metadata": {},
     "output_type": "execute_result"
    }
   ],
   "source": [
    "training_scaled"
   ]
  },
  {
   "cell_type": "code",
   "execution_count": 8,
   "metadata": {
    "id": "viDV8dw3JoS9"
   },
   "outputs": [],
   "source": [
    "x_train = []\n",
    "y_train = []"
   ]
  },
  {
   "cell_type": "code",
   "execution_count": 9,
   "metadata": {
    "id": "oLVZkwrzJqTQ"
   },
   "outputs": [],
   "source": [
    "for i in range(60,1259):\n",
    "    x_train.append(training_scaled[i-60:i, 0])\n",
    "    y_train.append(training_scaled[i,0])\n"
   ]
  },
  {
   "cell_type": "code",
   "execution_count": 10,
   "metadata": {
    "id": "l1xOlDBHJsL3"
   },
   "outputs": [],
   "source": [
    "x_train = np.array(x_train)\n",
    "y_train=np.array(y_train)"
   ]
  },
  {
   "cell_type": "code",
   "execution_count": 11,
   "metadata": {
    "colab": {
     "base_uri": "https://localhost:8080/"
    },
    "id": "7iSWDtVBJvW4",
    "outputId": "e1ade42c-7f88-4e74-d30a-3ac27a1ac4a3"
   },
   "outputs": [
    {
     "data": {
      "text/plain": [
       "(1199, 60)"
      ]
     },
     "execution_count": 11,
     "metadata": {},
     "output_type": "execute_result"
    }
   ],
   "source": [
    "x_train.shape"
   ]
  },
  {
   "cell_type": "code",
   "execution_count": 12,
   "metadata": {
    "id": "-5coo-_GJxc2"
   },
   "outputs": [],
   "source": [
    "x_train = np.reshape(x_train, (x_train.shape[0],x_train.shape[1],1))"
   ]
  },
  {
   "cell_type": "code",
   "execution_count": 13,
   "metadata": {
    "id": "Ex4ghfntJ0tP"
   },
   "outputs": [],
   "source": [
    "model = Sequential()\n",
    "model.add(LSTM(units = 50,return_sequences = True,input_shape = (x_train.shape[1],1)))"
   ]
  },
  {
   "cell_type": "code",
   "execution_count": 14,
   "metadata": {
    "id": "wAvwnpdtJ_HH"
   },
   "outputs": [],
   "source": [
    "model.add(Dropout(0.2))\n"
   ]
  },
  {
   "cell_type": "code",
   "execution_count": 15,
   "metadata": {
    "id": "dk14y7aNKFA0"
   },
   "outputs": [],
   "source": [
    "model.add(LSTM(units = 50,return_sequences = True))\n",
    "model.add(Dropout(0.2))\n"
   ]
  },
  {
   "cell_type": "code",
   "execution_count": 16,
   "metadata": {
    "id": "mibU1hn_KGkA"
   },
   "outputs": [],
   "source": [
    "model.add(LSTM(units = 50,return_sequences = True))\n",
    "model.add(Dropout(0.2))"
   ]
  },
  {
   "cell_type": "code",
   "execution_count": 17,
   "metadata": {
    "id": "i6sPRTnwKNOp"
   },
   "outputs": [],
   "source": [
    "model.add(LSTM(units = 50))\n",
    "model.add(Dropout(0.2))"
   ]
  },
  {
   "cell_type": "code",
   "execution_count": 18,
   "metadata": {
    "id": "8KXE1mQmKQiW"
   },
   "outputs": [],
   "source": [
    "model.add(Dense(units = 1))"
   ]
  },
  {
   "cell_type": "code",
   "execution_count": 19,
   "metadata": {
    "id": "LVdvjXsLKStd"
   },
   "outputs": [],
   "source": [
    "model.compile(optimizer = 'adam',loss = 'mean_squared_error')"
   ]
  },
  {
   "cell_type": "code",
   "execution_count": 20,
   "metadata": {
    "colab": {
     "base_uri": "https://localhost:8080/"
    },
    "id": "TFK_S9AcKYjE",
    "outputId": "aa7c555f-f2a4-4e6d-d68d-15d6b0b68111"
   },
   "outputs": [
    {
     "name": "stdout",
     "output_type": "stream",
     "text": [
      "Epoch 1/30\n",
      "38/38 [==============================] - 13s 71ms/step - loss: 0.0374\n",
      "Epoch 2/30\n",
      "38/38 [==============================] - 3s 71ms/step - loss: 0.0043\n",
      "Epoch 3/30\n",
      "38/38 [==============================] - 3s 71ms/step - loss: 0.0043\n",
      "Epoch 4/30\n",
      "38/38 [==============================] - 3s 71ms/step - loss: 0.0042\n",
      "Epoch 5/30\n",
      "38/38 [==============================] - 3s 72ms/step - loss: 0.0041\n",
      "Epoch 6/30\n",
      "38/38 [==============================] - 3s 73ms/step - loss: 0.0035\n",
      "Epoch 7/30\n",
      "38/38 [==============================] - 3s 72ms/step - loss: 0.0032\n",
      "Epoch 8/30\n",
      "38/38 [==============================] - 3s 71ms/step - loss: 0.0034\n",
      "Epoch 9/30\n",
      "38/38 [==============================] - 3s 71ms/step - loss: 0.0040\n",
      "Epoch 10/30\n",
      "38/38 [==============================] - 3s 73ms/step - loss: 0.0035\n",
      "Epoch 11/30\n",
      "38/38 [==============================] - 3s 72ms/step - loss: 0.0031\n",
      "Epoch 12/30\n",
      "38/38 [==============================] - 3s 74ms/step - loss: 0.0033\n",
      "Epoch 13/30\n",
      "38/38 [==============================] - 3s 74ms/step - loss: 0.0029\n",
      "Epoch 14/30\n",
      "38/38 [==============================] - 3s 73ms/step - loss: 0.0026\n",
      "Epoch 15/30\n",
      "38/38 [==============================] - 3s 73ms/step - loss: 0.0029\n",
      "Epoch 16/30\n",
      "38/38 [==============================] - 3s 73ms/step - loss: 0.0031\n",
      "Epoch 17/30\n",
      "38/38 [==============================] - 3s 74ms/step - loss: 0.0024\n",
      "Epoch 18/30\n",
      "38/38 [==============================] - 3s 76ms/step - loss: 0.0026\n",
      "Epoch 19/30\n",
      "38/38 [==============================] - 3s 79ms/step - loss: 0.0025\n",
      "Epoch 20/30\n",
      "38/38 [==============================] - 3s 77ms/step - loss: 0.0027\n",
      "Epoch 21/30\n",
      "38/38 [==============================] - 3s 79ms/step - loss: 0.0027\n",
      "Epoch 22/30\n",
      "38/38 [==============================] - 3s 79ms/step - loss: 0.0031\n",
      "Epoch 23/30\n",
      "38/38 [==============================] - 3s 76ms/step - loss: 0.0021\n",
      "Epoch 24/30\n",
      "38/38 [==============================] - 3s 77ms/step - loss: 0.0025\n",
      "Epoch 25/30\n",
      "38/38 [==============================] - 3s 77ms/step - loss: 0.0024\n",
      "Epoch 26/30\n",
      "38/38 [==============================] - 3s 78ms/step - loss: 0.0027\n",
      "Epoch 27/30\n",
      "38/38 [==============================] - 3s 77ms/step - loss: 0.0025\n",
      "Epoch 28/30\n",
      "38/38 [==============================] - 3s 76ms/step - loss: 0.0022\n",
      "Epoch 29/30\n",
      "38/38 [==============================] - 3s 76ms/step - loss: 0.0021\n",
      "Epoch 30/30\n",
      "38/38 [==============================] - 3s 78ms/step - loss: 0.0020\n"
     ]
    },
    {
     "data": {
      "text/plain": [
       "<keras.callbacks.History at 0x1dccedef430>"
      ]
     },
     "execution_count": 20,
     "metadata": {},
     "output_type": "execute_result"
    }
   ],
   "source": [
    "model.fit(x_train,y_train,epochs = 30, batch_size = 32)"
   ]
  },
  {
   "cell_type": "code",
   "execution_count": 21,
   "metadata": {
    "id": "gNsWUKinKnzC"
   },
   "outputs": [],
   "source": [
    "dataset_test =pd.read_csv(\"testset.csv\")"
   ]
  },
  {
   "cell_type": "code",
   "execution_count": 22,
   "metadata": {
    "id": "oFeYLhkqK03I"
   },
   "outputs": [],
   "source": [
    "real_stock_price = dataset_test.iloc[:,1:2].values"
   ]
  },
  {
   "cell_type": "code",
   "execution_count": 23,
   "metadata": {
    "colab": {
     "base_uri": "https://localhost:8080/"
    },
    "id": "KRh_IinmK48u",
    "outputId": "3ab1e5b4-c60d-4a0e-b9a1-ab22c5dbbf22"
   },
   "outputs": [
    {
     "data": {
      "text/plain": [
       "0       357.385559\n",
       "1       360.122742\n",
       "2       362.313507\n",
       "3       365.348755\n",
       "4       365.393463\n",
       "          ...     \n",
       "120    1143.599976\n",
       "121    1128.000000\n",
       "122    1121.339966\n",
       "123    1102.089966\n",
       "124    1120.000000\n",
       "Name: Open, Length: 1384, dtype: float64"
      ]
     },
     "execution_count": 23,
     "metadata": {},
     "output_type": "execute_result"
    }
   ],
   "source": [
    "dataset_total = pd.concat((dataset_train['Open'],dataset_test['Open']),axis = 0)\n",
    "dataset_total"
   ]
  },
  {
   "cell_type": "code",
   "execution_count": 24,
   "metadata": {
    "colab": {
     "base_uri": "https://localhost:8080/"
    },
    "id": "YqwEe6CCK7zW",
    "outputId": "be960edd-fc86-4567-ce0d-ce8093ba309c"
   },
   "outputs": [
    {
     "data": {
      "text/plain": [
       "array([ 955.48999 ,  966.700012,  980.      ,  980.      ,  973.719971,\n",
       "        987.450012,  992.      ,  992.099976,  990.289978,  991.77002 ,\n",
       "        986.      ,  989.440002,  989.52002 ,  970.      ,  968.369995,\n",
       "        980.      , 1009.190002, 1014.      , 1015.219971, 1017.210022,\n",
       "       1021.76001 , 1022.109985, 1028.98999 , 1027.27002 , 1030.52002 ,\n",
       "       1033.98999 , 1026.459961, 1023.419983, 1022.590027, 1019.210022,\n",
       "       1022.52002 , 1034.01001 , 1020.26001 , 1023.309998, 1035.      ,\n",
       "       1035.869995, 1040.      , 1055.089966, 1042.680054, 1022.369995,\n",
       "       1015.799988, 1012.659973,  995.940002, 1001.5     , 1020.429993,\n",
       "       1037.48999 , 1035.5     , 1039.630005, 1046.119995, 1045.      ,\n",
       "       1054.609985, 1066.079956, 1075.199951, 1071.780029, 1064.949951,\n",
       "       1061.109985, 1058.069946, 1057.390015, 1051.599976, 1046.719971,\n",
       "       1048.339966, 1064.310059, 1088.      , 1094.      , 1102.22998 ,\n",
       "       1109.400024, 1097.099976, 1106.300049, 1102.410034, 1132.51001 ,\n",
       "       1126.219971, 1131.410034, 1131.829956, 1137.48999 , 1159.849976,\n",
       "       1177.329956, 1172.530029, 1175.079956, 1176.47998 , 1167.829956,\n",
       "       1170.569946, 1162.609985, 1122.      , 1090.599976, 1027.180054,\n",
       "       1081.540039, 1055.410034, 1017.25    , 1048.      , 1045.      ,\n",
       "       1048.949951, 1079.069946, 1088.410034, 1090.569946, 1106.469971,\n",
       "       1116.189941, 1112.640015, 1127.800049, 1141.23999 , 1123.030029,\n",
       "       1107.869995, 1053.079956, 1075.140015, 1099.219971, 1089.189941,\n",
       "       1115.319946, 1136.      , 1163.849976, 1170.      , 1145.209961,\n",
       "       1149.959961, 1154.140015, 1120.01001 , 1099.      , 1092.73999 ,\n",
       "       1081.880005, 1047.030029, 1046.      , 1063.      ,  998.      ,\n",
       "       1011.630005, 1022.820007, 1013.909973,  993.409973, 1041.329956,\n",
       "       1020.      , 1016.799988, 1026.439941, 1027.98999 , 1025.040039,\n",
       "       1040.880005, 1037.      , 1051.369995, 1077.430054, 1069.400024,\n",
       "       1082.      , 1077.859985, 1052.      , 1025.52002 , 1029.51001 ,\n",
       "       1046.      , 1030.01001 , 1013.659973, 1028.099976, 1019.      ,\n",
       "       1016.900024, 1049.22998 , 1058.540039, 1058.099976, 1086.030029,\n",
       "       1093.599976, 1100.      , 1090.      , 1077.310059, 1079.890015,\n",
       "       1061.859985, 1074.060059, 1083.560059, 1065.130005, 1079.      ,\n",
       "       1079.02002 , 1064.890015, 1063.030029, 1067.560059, 1099.349976,\n",
       "       1122.329956, 1140.98999 , 1142.170044, 1131.319946, 1118.180054,\n",
       "       1118.599976, 1131.069946, 1141.119995, 1143.849976, 1148.859985,\n",
       "       1143.650024, 1158.5     , 1175.310059, 1174.849976, 1159.140015,\n",
       "       1143.599976, 1128.      , 1121.339966, 1102.089966, 1120.      ])"
      ]
     },
     "execution_count": 24,
     "metadata": {},
     "output_type": "execute_result"
    }
   ],
   "source": [
    "inputs = dataset_total[len(dataset_total) - len(dataset_test)-60:].values\n",
    "inputs"
   ]
  },
  {
   "cell_type": "code",
   "execution_count": 25,
   "metadata": {
    "id": "USFpv9fsK-Xh"
   },
   "outputs": [],
   "source": [
    "inputs = inputs.reshape(-1,1)"
   ]
  },
  {
   "cell_type": "code",
   "execution_count": 26,
   "metadata": {
    "colab": {
     "base_uri": "https://localhost:8080/"
    },
    "id": "393PqK7LK_fQ",
    "outputId": "e38ec58f-df57-44b5-d281-c1ad97ee5cd5"
   },
   "outputs": [
    {
     "data": {
      "text/plain": [
       "array([[ 955.48999 ],\n",
       "       [ 966.700012],\n",
       "       [ 980.      ],\n",
       "       [ 980.      ],\n",
       "       [ 973.719971],\n",
       "       [ 987.450012],\n",
       "       [ 992.      ],\n",
       "       [ 992.099976],\n",
       "       [ 990.289978],\n",
       "       [ 991.77002 ],\n",
       "       [ 986.      ],\n",
       "       [ 989.440002],\n",
       "       [ 989.52002 ],\n",
       "       [ 970.      ],\n",
       "       [ 968.369995],\n",
       "       [ 980.      ],\n",
       "       [1009.190002],\n",
       "       [1014.      ],\n",
       "       [1015.219971],\n",
       "       [1017.210022],\n",
       "       [1021.76001 ],\n",
       "       [1022.109985],\n",
       "       [1028.98999 ],\n",
       "       [1027.27002 ],\n",
       "       [1030.52002 ],\n",
       "       [1033.98999 ],\n",
       "       [1026.459961],\n",
       "       [1023.419983],\n",
       "       [1022.590027],\n",
       "       [1019.210022],\n",
       "       [1022.52002 ],\n",
       "       [1034.01001 ],\n",
       "       [1020.26001 ],\n",
       "       [1023.309998],\n",
       "       [1035.      ],\n",
       "       [1035.869995],\n",
       "       [1040.      ],\n",
       "       [1055.089966],\n",
       "       [1042.680054],\n",
       "       [1022.369995],\n",
       "       [1015.799988],\n",
       "       [1012.659973],\n",
       "       [ 995.940002],\n",
       "       [1001.5     ],\n",
       "       [1020.429993],\n",
       "       [1037.48999 ],\n",
       "       [1035.5     ],\n",
       "       [1039.630005],\n",
       "       [1046.119995],\n",
       "       [1045.      ],\n",
       "       [1054.609985],\n",
       "       [1066.079956],\n",
       "       [1075.199951],\n",
       "       [1071.780029],\n",
       "       [1064.949951],\n",
       "       [1061.109985],\n",
       "       [1058.069946],\n",
       "       [1057.390015],\n",
       "       [1051.599976],\n",
       "       [1046.719971],\n",
       "       [1048.339966],\n",
       "       [1064.310059],\n",
       "       [1088.      ],\n",
       "       [1094.      ],\n",
       "       [1102.22998 ],\n",
       "       [1109.400024],\n",
       "       [1097.099976],\n",
       "       [1106.300049],\n",
       "       [1102.410034],\n",
       "       [1132.51001 ],\n",
       "       [1126.219971],\n",
       "       [1131.410034],\n",
       "       [1131.829956],\n",
       "       [1137.48999 ],\n",
       "       [1159.849976],\n",
       "       [1177.329956],\n",
       "       [1172.530029],\n",
       "       [1175.079956],\n",
       "       [1176.47998 ],\n",
       "       [1167.829956],\n",
       "       [1170.569946],\n",
       "       [1162.609985],\n",
       "       [1122.      ],\n",
       "       [1090.599976],\n",
       "       [1027.180054],\n",
       "       [1081.540039],\n",
       "       [1055.410034],\n",
       "       [1017.25    ],\n",
       "       [1048.      ],\n",
       "       [1045.      ],\n",
       "       [1048.949951],\n",
       "       [1079.069946],\n",
       "       [1088.410034],\n",
       "       [1090.569946],\n",
       "       [1106.469971],\n",
       "       [1116.189941],\n",
       "       [1112.640015],\n",
       "       [1127.800049],\n",
       "       [1141.23999 ],\n",
       "       [1123.030029],\n",
       "       [1107.869995],\n",
       "       [1053.079956],\n",
       "       [1075.140015],\n",
       "       [1099.219971],\n",
       "       [1089.189941],\n",
       "       [1115.319946],\n",
       "       [1136.      ],\n",
       "       [1163.849976],\n",
       "       [1170.      ],\n",
       "       [1145.209961],\n",
       "       [1149.959961],\n",
       "       [1154.140015],\n",
       "       [1120.01001 ],\n",
       "       [1099.      ],\n",
       "       [1092.73999 ],\n",
       "       [1081.880005],\n",
       "       [1047.030029],\n",
       "       [1046.      ],\n",
       "       [1063.      ],\n",
       "       [ 998.      ],\n",
       "       [1011.630005],\n",
       "       [1022.820007],\n",
       "       [1013.909973],\n",
       "       [ 993.409973],\n",
       "       [1041.329956],\n",
       "       [1020.      ],\n",
       "       [1016.799988],\n",
       "       [1026.439941],\n",
       "       [1027.98999 ],\n",
       "       [1025.040039],\n",
       "       [1040.880005],\n",
       "       [1037.      ],\n",
       "       [1051.369995],\n",
       "       [1077.430054],\n",
       "       [1069.400024],\n",
       "       [1082.      ],\n",
       "       [1077.859985],\n",
       "       [1052.      ],\n",
       "       [1025.52002 ],\n",
       "       [1029.51001 ],\n",
       "       [1046.      ],\n",
       "       [1030.01001 ],\n",
       "       [1013.659973],\n",
       "       [1028.099976],\n",
       "       [1019.      ],\n",
       "       [1016.900024],\n",
       "       [1049.22998 ],\n",
       "       [1058.540039],\n",
       "       [1058.099976],\n",
       "       [1086.030029],\n",
       "       [1093.599976],\n",
       "       [1100.      ],\n",
       "       [1090.      ],\n",
       "       [1077.310059],\n",
       "       [1079.890015],\n",
       "       [1061.859985],\n",
       "       [1074.060059],\n",
       "       [1083.560059],\n",
       "       [1065.130005],\n",
       "       [1079.      ],\n",
       "       [1079.02002 ],\n",
       "       [1064.890015],\n",
       "       [1063.030029],\n",
       "       [1067.560059],\n",
       "       [1099.349976],\n",
       "       [1122.329956],\n",
       "       [1140.98999 ],\n",
       "       [1142.170044],\n",
       "       [1131.319946],\n",
       "       [1118.180054],\n",
       "       [1118.599976],\n",
       "       [1131.069946],\n",
       "       [1141.119995],\n",
       "       [1143.849976],\n",
       "       [1148.859985],\n",
       "       [1143.650024],\n",
       "       [1158.5     ],\n",
       "       [1175.310059],\n",
       "       [1174.849976],\n",
       "       [1159.140015],\n",
       "       [1143.599976],\n",
       "       [1128.      ],\n",
       "       [1121.339966],\n",
       "       [1102.089966],\n",
       "       [1120.      ]])"
      ]
     },
     "execution_count": 26,
     "metadata": {},
     "output_type": "execute_result"
    }
   ],
   "source": [
    "inputs"
   ]
  },
  {
   "cell_type": "code",
   "execution_count": 27,
   "metadata": {
    "colab": {
     "base_uri": "https://localhost:8080/"
    },
    "id": "o0Dfl-1yLC7Q",
    "outputId": "6a0d4d54-84c7-421b-8247-7e7bf3a943bc"
   },
   "outputs": [
    {
     "data": {
      "text/plain": [
       "(185, 1)"
      ]
     },
     "execution_count": 27,
     "metadata": {},
     "output_type": "execute_result"
    }
   ],
   "source": [
    "inputs = sc.transform(inputs)\n",
    "inputs.shape"
   ]
  },
  {
   "cell_type": "code",
   "execution_count": 28,
   "metadata": {
    "id": "E8WEH-c8LGQ9"
   },
   "outputs": [],
   "source": [
    "x_test = []\n",
    "for i in range(60,185):\n",
    "    x_test.append(inputs[i-60:i,0])"
   ]
  },
  {
   "cell_type": "code",
   "execution_count": 29,
   "metadata": {
    "colab": {
     "base_uri": "https://localhost:8080/"
    },
    "id": "ikFS-i0BOMPI",
    "outputId": "82738d94-2846-4917-ad2c-185370995f3a"
   },
   "outputs": [
    {
     "data": {
      "text/plain": [
       "(125, 60)"
      ]
     },
     "execution_count": 29,
     "metadata": {},
     "output_type": "execute_result"
    }
   ],
   "source": [
    "x_test = np.array(x_test)\n",
    "x_test.shape"
   ]
  },
  {
   "cell_type": "code",
   "execution_count": 30,
   "metadata": {
    "colab": {
     "base_uri": "https://localhost:8080/"
    },
    "id": "LDz-Ja_VOOG2",
    "outputId": "c5d37599-2c73-423f-90a6-df18c715aeef"
   },
   "outputs": [
    {
     "data": {
      "text/plain": [
       "(125, 60, 1)"
      ]
     },
     "execution_count": 30,
     "metadata": {},
     "output_type": "execute_result"
    }
   ],
   "source": [
    "x_test = np.reshape(x_test, (x_test.shape[0],x_test.shape[1],1))\n",
    "x_test.shape"
   ]
  },
  {
   "cell_type": "code",
   "execution_count": 31,
   "metadata": {
    "colab": {
     "base_uri": "https://localhost:8080/"
    },
    "id": "Y1kutL4WORf_",
    "outputId": "0c22b5db-cbdc-44fc-b27d-7231f138d386"
   },
   "outputs": [
    {
     "name": "stdout",
     "output_type": "stream",
     "text": [
      "4/4 [==============================] - 2s 26ms/step\n"
     ]
    }
   ],
   "source": [
    "predicted_price = model.predict(x_test)"
   ]
  },
  {
   "cell_type": "code",
   "execution_count": 32,
   "metadata": {
    "colab": {
     "base_uri": "https://localhost:8080/"
    },
    "id": "ncWh4TdIOUkT",
    "outputId": "4d536d7d-c897-40b4-aea6-6a3a3c75e076"
   },
   "outputs": [
    {
     "data": {
      "text/plain": [
       "array([[1041.8785 ],\n",
       "       [1043.2611 ],\n",
       "       [1044.0232 ],\n",
       "       [1044.564  ],\n",
       "       [1045.289  ],\n",
       "       [1046.539  ],\n",
       "       [1048.5452 ],\n",
       "       [1051.269  ],\n",
       "       [1054.6058 ],\n",
       "       [1058.3492 ],\n",
       "       [1062.4996 ],\n",
       "       [1066.9861 ],\n",
       "       [1071.7257 ],\n",
       "       [1076.5967 ],\n",
       "       [1081.495  ],\n",
       "       [1086.4803 ],\n",
       "       [1091.7177 ],\n",
       "       [1097.2477 ],\n",
       "       [1103.021  ],\n",
       "       [1108.9164 ],\n",
       "       [1114.6971 ],\n",
       "       [1120.1488 ],\n",
       "       [1125.0369 ],\n",
       "       [1128.8824 ],\n",
       "       [1131.1077 ],\n",
       "       [1130.9056 ],\n",
       "       [1128.2588 ],\n",
       "       [1123.3213 ],\n",
       "       [1116.1934 ],\n",
       "       [1107.3889 ],\n",
       "       [1097.533  ],\n",
       "       [1087.2987 ],\n",
       "       [1077.5242 ],\n",
       "       [1068.9729 ],\n",
       "       [1062.1824 ],\n",
       "       [1057.5308 ],\n",
       "       [1055.1987 ],\n",
       "       [1055.0773 ],\n",
       "       [1056.9637 ],\n",
       "       [1060.6176 ],\n",
       "       [1065.5443 ],\n",
       "       [1071.0734 ],\n",
       "       [1076.1605 ],\n",
       "       [1080.1497 ],\n",
       "       [1082.8939 ],\n",
       "       [1084.4158 ],\n",
       "       [1085.0718 ],\n",
       "       [1085.4161 ],\n",
       "       [1086.1335 ],\n",
       "       [1087.7571 ],\n",
       "       [1090.35   ],\n",
       "       [1093.7769 ],\n",
       "       [1097.8129 ],\n",
       "       [1101.9202 ],\n",
       "       [1105.4462 ],\n",
       "       [1107.866  ],\n",
       "       [1108.8195 ],\n",
       "       [1107.935  ],\n",
       "       [1105.0952 ],\n",
       "       [1100.5713 ],\n",
       "       [1094.3207 ],\n",
       "       [1086.5361 ],\n",
       "       [1077.6528 ],\n",
       "       [1068.1299 ],\n",
       "       [1058.2798 ],\n",
       "       [1048.7571 ],\n",
       "       [1040.0052 ],\n",
       "       [1032.296  ],\n",
       "       [1025.836  ],\n",
       "       [1020.7278 ],\n",
       "       [1016.93726],\n",
       "       [1014.4625 ],\n",
       "       [1013.2012 ],\n",
       "       [1013.09015],\n",
       "       [1014.2128 ],\n",
       "       [1016.5036 ],\n",
       "       [1019.8752 ],\n",
       "       [1024.1107 ],\n",
       "       [1028.7158 ],\n",
       "       [1032.9918 ],\n",
       "       [1036.4072 ],\n",
       "       [1038.7845 ],\n",
       "       [1040.0232 ],\n",
       "       [1040.0316 ],\n",
       "       [1038.9506 ],\n",
       "       [1036.9537 ],\n",
       "       [1034.2454 ],\n",
       "       [1031.3035 ],\n",
       "       [1028.6501 ],\n",
       "       [1026.6765 ],\n",
       "       [1025.8156 ],\n",
       "       [1026.3661 ],\n",
       "       [1028.4474 ],\n",
       "       [1031.8815 ],\n",
       "       [1036.2278 ],\n",
       "       [1041.0131 ],\n",
       "       [1045.6708 ],\n",
       "       [1049.8463 ],\n",
       "       [1053.4137 ],\n",
       "       [1056.2191 ],\n",
       "       [1058.2991 ],\n",
       "       [1059.7587 ],\n",
       "       [1060.6193 ],\n",
       "       [1060.9004 ],\n",
       "       [1060.687  ],\n",
       "       [1060.3395 ],\n",
       "       [1060.3729 ],\n",
       "       [1061.3182 ],\n",
       "       [1063.4928 ],\n",
       "       [1066.8698 ],\n",
       "       [1071.1116 ],\n",
       "       [1075.7921 ],\n",
       "       [1080.6031 ],\n",
       "       [1085.3809 ],\n",
       "       [1090.0304 ],\n",
       "       [1094.5168 ],\n",
       "       [1098.7638 ],\n",
       "       [1102.808  ],\n",
       "       [1106.8077 ],\n",
       "       [1110.8694 ],\n",
       "       [1114.8954 ],\n",
       "       [1118.6151 ],\n",
       "       [1121.6637 ],\n",
       "       [1123.7341 ],\n",
       "       [1124.5308 ]], dtype=float32)"
      ]
     },
     "execution_count": 32,
     "metadata": {},
     "output_type": "execute_result"
    }
   ],
   "source": [
    "predicted_price = sc.inverse_transform(predicted_price)\n",
    "predicted_price"
   ]
  },
  {
   "cell_type": "code",
   "execution_count": 33,
   "metadata": {
    "colab": {
     "base_uri": "https://localhost:8080/",
     "height": 472
    },
    "id": "BSWRZLCHOWzw",
    "outputId": "e82bd53a-e1ed-4320-d5de-a8d93c597307"
   },
   "outputs": [
    {
     "data": {
      "image/png": "[encoded data removed]",
      "text/plain": [
       "<Figure size 432x288 with 1 Axes>"
      ]
     },
     "metadata": {
      "needs_background": "light"
     },
     "output_type": "display_data"
    }
   ],
   "source": [
    "plt.plot(real_stock_price,color = 'red', label = 'Real Price')\n",
    "plt.plot(predicted_price, color = 'blue', label = 'Predicted Price')\n",
    "plt.title('Google Stock Price Prediction')\n",
    "plt.xlabel('Time')\n",
    "plt.ylabel('Google Stock Price')\n",
    "plt.legend()\n",
    "plt.show()"
   ]
  },
  {
   "cell_type": "code",
   "execution_count": null,
   "metadata": {},
   "outputs": [],
   "source": []
  }
 ],
 "metadata": {
  "accelerator": "GPU",
  "colab": {
   "provenance": []
  },
  "gpuClass": "standard",
  "kernelspec": {
   "display_name": "Python 3 (ipykernel)",
   "language": "python",
   "name": "python3"
  },
  "language_info": {
   "codemirror_mode": {
    "name": "ipython",
    "version": 3
   },
   "file_extension": ".py",
   "mimetype": "text/x-python",
   "name": "python",
   "nbconvert_exporter": "python",
   "pygments_lexer": "ipython3",
   "version": "3.9.12"
  }
 },
 "nbformat": 4,
 "nbformat_minor": 1
}
