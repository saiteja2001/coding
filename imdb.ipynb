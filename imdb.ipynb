{
 "cells": [
  {
   "cell_type": "markdown",
   "metadata": {},
   "source": [
    "## Import Packages"
   ]
  },
  {
   "cell_type": "code",
   "execution_count": 1,
   "metadata": {},
   "outputs": [],
   "source": [
    "import numpy as np\n",
    "from keras.datasets import imdb\n",
    "from keras import models\n",
    "from keras import layers\n",
    "from keras import optimizers\n",
    "from keras import losses\n",
    "from keras import metrics\n",
    "\n",
    "\n",
    "import matplotlib.pyplot as plt\n",
    "%matplotlib inline"
   ]
  },
  {
   "cell_type": "markdown",
   "metadata": {},
   "source": [
    "## Loading the Data"
   ]
  },
  {
   "cell_type": "code",
   "execution_count": 2,
   "metadata": {},
   "outputs": [],
   "source": [
    "# Load the data, keeping only 10,000 of the most frequently occuring words\n",
    "# (train_data, train_labels), (test_data, test_labels) = imdb.load_data(num_words = 10000)"
   ]
  },
  {
   "cell_type": "code",
   "execution_count": 6,
   "metadata": {},
   "outputs": [],
   "source": [
    "import pandas as pd\n",
    "from tensorflow.keras.preprocessing.text import Tokenizer\n",
    "from tensorflow.keras.preprocessing.sequence import pad_sequences\n",
    "\n",
    "# Load data from CSV file\n",
    "df = pd.read_csv('imdbData.csv')\n",
    "\n",
    "# Split the data into training and testing sets\n",
    "train_size = int(len(df) * 0.8)\n",
    "train_df = df[:train_size]\n",
    "test_df = df[train_size:]\n",
    "\n",
    "# Tokenize the text data\n",
    "tokenizer = Tokenizer(num_words=10000)\n",
    "tokenizer.fit_on_texts(train_df['review'])\n",
    "\n",
    "# Convert text to sequences of integers\n",
    "train_sequences = tokenizer.texts_to_sequences(train_df['review'])\n",
    "test_sequences = tokenizer.texts_to_sequences(test_df['review'])\n",
    "\n",
    "# Pad the sequences to ensure they all have the same length\n",
    "maxlen = 100\n",
    "train_data = pad_sequences(train_sequences, maxlen=maxlen)\n",
    "test_data = pad_sequences(test_sequences, maxlen=maxlen)\n",
    "\n",
    "# Get the labels\n",
    "train_labels = train_df['sentiment'].values\n",
    "test_labels = test_df['sentiment'].values\n",
    "\n"
   ]
  },
  {
   "cell_type": "code",
   "execution_count": 7,
   "metadata": {},
   "outputs": [
    {
     "data": {
      "text/plain": [
       "'positive'"
      ]
     },
     "execution_count": 7,
     "metadata": {},
     "output_type": "execute_result"
    }
   ],
   "source": [
    "# Check the first label\n",
    "train_labels[0]"
   ]
  },
  {
   "cell_type": "code",
   "execution_count": 8,
   "metadata": {},
   "outputs": [
    {
     "name": "stdout",
     "output_type": "stream",
     "text": [
      "<class 'list'>\n"
     ]
    },
    {
     "data": {
      "text/plain": [
       "9999"
      ]
     },
     "execution_count": 8,
     "metadata": {},
     "output_type": "execute_result"
    }
   ],
   "source": [
    "# Since we restricted ourselves to the top 10000 frequent words, no word index should exceed 10000\n",
    "# we'll verify this below\n",
    "\n",
    "# Here is a list of maximum indexes in every review --- we search the maximum index in this list of max indexes\n",
    "print(type([max(sequence) for sequence in train_data]))\n",
    "\n",
    "# Find the maximum of all max indexes\n",
    "max([max(sequence) for sequence in train_data])"
   ]
  },
  {
   "cell_type": "code",
   "execution_count": 9,
   "metadata": {},
   "outputs": [
    {
     "data": {
      "text/plain": [
       "\"always appearing their this by personality is i involves br felt man br i area that is for this br shows there br happening ? drawn that goofy ? can't skimpy and ? takes study the range hit but from hit for thereby pumbaa frightened are basis or that ? burke genre movie i'll ? we 2 was is had interviewed documentary future burke character finds into disturbing events and story happens the directors sudden so disturbing anyway real goofy film original sort doo was if a bible sorry favourite just film really we to barely was ever instant michael\""
      ]
     },
     "execution_count": 9,
     "metadata": {},
     "output_type": "execute_result"
    }
   ],
   "source": [
    "# Let's quickly decode a review\n",
    "\n",
    "# step 1: load the dictionary mappings from word to integer index\n",
    "word_index = imdb.get_word_index()\n",
    "\n",
    "# step 2: reverse word index to map integer indexes to their respective words\n",
    "reverse_word_index = dict([(value, key) for (key, value) in word_index.items()])\n",
    "\n",
    "# Step 3: decode the review, mapping integer indices to words\n",
    "#\n",
    "# indices are off by 3 because 0, 1, and 2 are reserverd indices for \"padding\", \"Start of sequence\" and \"unknown\"\n",
    "decoded_review = ' '.join([reverse_word_index.get(i-3, '?') for i in train_data[0]])\n",
    "\n",
    "decoded_review"
   ]
  },
  {
   "cell_type": "code",
   "execution_count": 10,
   "metadata": {},
   "outputs": [
    {
     "data": {
      "text/plain": [
       "88584"
      ]
     },
     "execution_count": 10,
     "metadata": {},
     "output_type": "execute_result"
    }
   ],
   "source": [
    "len(reverse_word_index)"
   ]
  },
  {
   "cell_type": "markdown",
   "metadata": {},
   "source": [
    "## Preparing the data"
   ]
  },
  {
   "cell_type": "code",
   "execution_count": 11,
   "metadata": {},
   "outputs": [],
   "source": [
    "def vectorize_sequences(sequences, dimension=10000):\n",
    "    results = np.zeros((len(sequences), dimension))    # Creates an all zero matrix of shape (len(sequences),10K)\n",
    "    for i,sequence in enumerate(sequences):\n",
    "        results[i,sequence] = 1                        # Sets specific indices of results[i] to 1s\n",
    "    return results\n",
    "\n",
    "# Vectorize training Data\n",
    "X_train = vectorize_sequences(train_data)\n",
    "\n",
    "# Vectorize testing Data\n",
    "X_test = vectorize_sequences(test_data)"
   ]
  },
  {
   "cell_type": "code",
   "execution_count": 12,
   "metadata": {},
   "outputs": [
    {
     "data": {
      "text/plain": [
       "array([0., 1., 1., ..., 0., 0., 0.])"
      ]
     },
     "execution_count": 12,
     "metadata": {},
     "output_type": "execute_result"
    }
   ],
   "source": [
    "X_train[0]"
   ]
  },
  {
   "cell_type": "code",
   "execution_count": 13,
   "metadata": {},
   "outputs": [
    {
     "data": {
      "text/plain": [
       "(40000, 10000)"
      ]
     },
     "execution_count": 13,
     "metadata": {},
     "output_type": "execute_result"
    }
   ],
   "source": [
    "X_train.shape"
   ]
  },
  {
   "cell_type": "markdown",
   "metadata": {},
   "source": [
    "### Vectorize labels"
   ]
  },
  {
   "cell_type": "code",
   "execution_count": 14,
   "metadata": {},
   "outputs": [],
   "source": [
    "# y_train = np.asarray(train_labels).astype('float32')\n",
    "# y_test  = np.asarray(test_labels).astype('float32')\n",
    "label_dict = {'positive': 1.0, 'negative': 0.0}\n",
    "y_train = np.array([label_dict[label] for label in train_labels]).astype('float32')\n",
    "y_test = np.array([label_dict[label] for label in test_labels]).astype('float32')\n"
   ]
  },
  {
   "cell_type": "markdown",
   "metadata": {},
   "source": [
    "## Building the network"
   ]
  },
  {
   "cell_type": "markdown",
   "metadata": {},
   "source": [
    "### Model defination"
   ]
  },
  {
   "cell_type": "code",
   "execution_count": 15,
   "metadata": {},
   "outputs": [],
   "source": [
    "model = models.Sequential()\n",
    "model.add(layers.Dense(8, activation='relu', input_shape=(10000,)))\n",
    "model.add(layers.Dense(8, activation='relu'))\n",
    "model.add(layers.Dense(1, activation='sigmoid'))"
   ]
  },
  {
   "cell_type": "code",
   "execution_count": 17,
   "metadata": {},
   "outputs": [],
   "source": [
    "# from tensorflow.keras.utils import plot_model\n",
    "\n",
    "# plot_model(model, to_file='model.png', show_shapes=True, show_layer_names=True)\n",
    "# from IPython.display import Image\n",
    "\n",
    "# Image(filename='model.png')\n"
   ]
  },
  {
   "cell_type": "code",
   "execution_count": 18,
   "metadata": {},
   "outputs": [
    {
     "name": "stdout",
     "output_type": "stream",
     "text": [
      "Model: \"sequential\"\n",
      "_________________________________________________________________\n",
      " Layer (type)                Output Shape              Param #   \n",
      "=================================================================\n",
      " dense (Dense)               (None, 8)                 80008     \n",
      "                                                                 \n",
      " dense_1 (Dense)             (None, 8)                 72        \n",
      "                                                                 \n",
      " dense_2 (Dense)             (None, 1)                 9         \n",
      "                                                                 \n",
      "=================================================================\n",
      "Total params: 80,089\n",
      "Trainable params: 80,089\n",
      "Non-trainable params: 0\n",
      "_________________________________________________________________\n"
     ]
    }
   ],
   "source": [
    "model.summary()"
   ]
  },
  {
   "cell_type": "code",
   "execution_count": 19,
   "metadata": {},
   "outputs": [],
   "source": [
    "# from ann_visualizer.visualize import ann_viz\n",
    "# ann_viz(model, view=True, filename=\"cconstruct_model\", title=\"CNN — Model 1 — Simple Architecture\")"
   ]
  },
  {
   "cell_type": "markdown",
   "metadata": {},
   "source": [
    "## Compiling the model"
   ]
  },
  {
   "cell_type": "code",
   "execution_count": 23,
   "metadata": {},
   "outputs": [],
   "source": [
    "from tensorflow import keras\n",
    "from keras import optimizers\n",
    "# optimizer=keras.optimizers.RMSprop(learning_rate=0.01)\n",
    "model.compile(\n",
    "    optimizer=keras.optimizers.RMSprop(learning_rate=0.01),\n",
    "    loss = losses.binary_crossentropy,\n",
    "    metrics = [metrics.binary_accuracy]\n",
    ")"
   ]
  },
  {
   "cell_type": "code",
   "execution_count": 24,
   "metadata": {},
   "outputs": [],
   "source": [
    "# Input for Validation\n",
    "X_val = X_train[:10000]\n",
    "partial_X_train = X_train[10000:]\n",
    "\n",
    "# Labels for validation\n",
    "y_val = y_train[:10000]\n",
    "partial_y_train = y_train[10000:]"
   ]
  },
  {
   "cell_type": "markdown",
   "metadata": {},
   "source": [
    "# Training our model"
   ]
  },
  {
   "cell_type": "code",
   "execution_count": 25,
   "metadata": {},
   "outputs": [
    {
     "name": "stdout",
     "output_type": "stream",
     "text": [
      "Epoch 1/20\n",
      "59/59 [==============================] - 9s 110ms/step - loss: 0.4358 - binary_accuracy: 0.7929 - val_loss: 0.3517 - val_binary_accuracy: 0.8492\n",
      "Epoch 2/20\n",
      "59/59 [==============================] - 2s 26ms/step - loss: 0.2816 - binary_accuracy: 0.8820 - val_loss: 0.3276 - val_binary_accuracy: 0.8589\n",
      "Epoch 3/20\n",
      "59/59 [==============================] - 1s 25ms/step - loss: 0.2324 - binary_accuracy: 0.9056 - val_loss: 0.3552 - val_binary_accuracy: 0.8522\n",
      "Epoch 4/20\n",
      "59/59 [==============================] - 1s 24ms/step - loss: 0.1953 - binary_accuracy: 0.9200 - val_loss: 0.3988 - val_binary_accuracy: 0.8481\n",
      "Epoch 5/20\n",
      "59/59 [==============================] - 1s 24ms/step - loss: 0.1608 - binary_accuracy: 0.9353 - val_loss: 0.4519 - val_binary_accuracy: 0.8473\n",
      "Epoch 6/20\n",
      "59/59 [==============================] - 1s 25ms/step - loss: 0.1341 - binary_accuracy: 0.9469 - val_loss: 0.5578 - val_binary_accuracy: 0.8285\n",
      "Epoch 7/20\n",
      "59/59 [==============================] - 5s 78ms/step - loss: 0.1087 - binary_accuracy: 0.9566 - val_loss: 0.6093 - val_binary_accuracy: 0.8431\n",
      "Epoch 8/20\n",
      "59/59 [==============================] - 1s 25ms/step - loss: 0.0895 - binary_accuracy: 0.9630 - val_loss: 0.6921 - val_binary_accuracy: 0.8406\n",
      "Epoch 9/20\n",
      "59/59 [==============================] - 1s 24ms/step - loss: 0.0718 - binary_accuracy: 0.9706 - val_loss: 0.7610 - val_binary_accuracy: 0.8376\n",
      "Epoch 10/20\n",
      "59/59 [==============================] - 1s 24ms/step - loss: 0.0535 - binary_accuracy: 0.9793 - val_loss: 0.9512 - val_binary_accuracy: 0.8389\n",
      "Epoch 11/20\n",
      "59/59 [==============================] - 2s 27ms/step - loss: 0.0462 - binary_accuracy: 0.9815 - val_loss: 1.0568 - val_binary_accuracy: 0.8373\n",
      "Epoch 12/20\n",
      "59/59 [==============================] - 1s 24ms/step - loss: 0.0356 - binary_accuracy: 0.9859 - val_loss: 1.3123 - val_binary_accuracy: 0.8118\n",
      "Epoch 13/20\n",
      "59/59 [==============================] - 2s 26ms/step - loss: 0.0318 - binary_accuracy: 0.9870 - val_loss: 1.2508 - val_binary_accuracy: 0.8347\n",
      "Epoch 14/20\n",
      "59/59 [==============================] - 1s 24ms/step - loss: 0.0240 - binary_accuracy: 0.9897 - val_loss: 1.3405 - val_binary_accuracy: 0.8311\n",
      "Epoch 15/20\n",
      "59/59 [==============================] - 1s 24ms/step - loss: 0.0231 - binary_accuracy: 0.9903 - val_loss: 1.4600 - val_binary_accuracy: 0.8273\n",
      "Epoch 16/20\n",
      "59/59 [==============================] - 2s 26ms/step - loss: 0.0166 - binary_accuracy: 0.9929 - val_loss: 1.5923 - val_binary_accuracy: 0.8242\n",
      "Epoch 17/20\n",
      "59/59 [==============================] - 1s 24ms/step - loss: 0.0151 - binary_accuracy: 0.9928 - val_loss: 1.8583 - val_binary_accuracy: 0.8102\n",
      "Epoch 18/20\n",
      "59/59 [==============================] - 1s 24ms/step - loss: 0.0214 - binary_accuracy: 0.9919 - val_loss: 1.8567 - val_binary_accuracy: 0.8255\n",
      "Epoch 19/20\n",
      "59/59 [==============================] - 2s 26ms/step - loss: 0.0126 - binary_accuracy: 0.9941 - val_loss: 1.9703 - val_binary_accuracy: 0.8244\n",
      "Epoch 20/20\n",
      "59/59 [==============================] - 1s 24ms/step - loss: 0.0075 - binary_accuracy: 0.9961 - val_loss: 2.1084 - val_binary_accuracy: 0.8217\n"
     ]
    }
   ],
   "source": [
    "history = model.fit(\n",
    "    partial_X_train,\n",
    "    partial_y_train,\n",
    "    epochs=20,\n",
    "    batch_size=512,\n",
    "    validation_data=(X_val, y_val)\n",
    ")"
   ]
  },
  {
   "cell_type": "code",
   "execution_count": 26,
   "metadata": {},
   "outputs": [
    {
     "data": {
      "text/plain": [
       "dict_keys(['loss', 'binary_accuracy', 'val_loss', 'val_binary_accuracy'])"
      ]
     },
     "execution_count": 26,
     "metadata": {},
     "output_type": "execute_result"
    }
   ],
   "source": [
    "history_dict = history.history\n",
    "history_dict.keys()"
   ]
  },
  {
   "cell_type": "code",
   "execution_count": 27,
   "metadata": {},
   "outputs": [
    {
     "data": {
      "image/png": "[encoded data removed]",
      "text/plain": [
       "<Figure size 432x288 with 1 Axes>"
      ]
     },
     "metadata": {
      "needs_background": "light"
     },
     "output_type": "display_data"
    }
   ],
   "source": [
    "# Plotting losses\n",
    "loss_values = history_dict['loss']\n",
    "val_loss_values = history_dict['val_loss']\n",
    "\n",
    "epochs = range(1, len(loss_values) + 1)\n",
    "\n",
    "plt.plot(epochs, loss_values, 'g', label=\"Training Loss\")\n",
    "plt.plot(epochs, val_loss_values, 'b', label=\"Validation Loss\")\n",
    "\n",
    "plt.title('Training and Validation Loss')\n",
    "plt.xlabel('Epochs')\n",
    "plt.ylabel('Loss Value')\n",
    "plt.legend()\n",
    "\n",
    "plt.show()"
   ]
  },
  {
   "cell_type": "code",
   "execution_count": 28,
   "metadata": {},
   "outputs": [
    {
     "data": {
      "image/png": "[encoded data removed]",
      "text/plain": [
       "<Figure size 432x288 with 1 Axes>"
      ]
     },
     "metadata": {
      "needs_background": "light"
     },
     "output_type": "display_data"
    }
   ],
   "source": [
    "# Training and Validation Accuracy\n",
    "\n",
    "acc_values = history_dict['binary_accuracy']\n",
    "val_acc_values = history_dict['val_binary_accuracy']\n",
    "\n",
    "epochs = range(1, len(loss_values) + 1)\n",
    "\n",
    "plt.plot(epochs, acc_values, 'g', label=\"Training Accuracy\")\n",
    "plt.plot(epochs, val_acc_values, 'b', label=\"Validation Accuracy\")\n",
    "\n",
    "plt.title('Training and Validation Accuraccy')\n",
    "plt.xlabel('Epochs')\n",
    "plt.ylabel('Accuracy')\n",
    "plt.legend()\n",
    "\n",
    "plt.show()"
   ]
  },
  {
   "cell_type": "markdown",
   "metadata": {},
   "source": [
    "### Retraining our model"
   ]
  },
  {
   "cell_type": "code",
   "execution_count": 29,
   "metadata": {},
   "outputs": [
    {
     "name": "stdout",
     "output_type": "stream",
     "text": [
      "Epoch 1/3\n",
      "59/59 [==============================] - 6s 97ms/step - loss: 0.0165 - binary_accuracy: 0.9935 - val_loss: 2.1935 - val_binary_accuracy: 0.8192\n",
      "Epoch 2/3\n",
      "59/59 [==============================] - 1s 24ms/step - loss: 0.0062 - binary_accuracy: 0.9969 - val_loss: 2.2076 - val_binary_accuracy: 0.8210\n",
      "Epoch 3/3\n",
      "59/59 [==============================] - 1s 24ms/step - loss: 0.0163 - binary_accuracy: 0.9942 - val_loss: 2.1908 - val_binary_accuracy: 0.8222\n"
     ]
    },
    {
     "data": {
      "text/plain": [
       "<keras.callbacks.History at 0x20beeacabb0>"
      ]
     },
     "execution_count": 29,
     "metadata": {},
     "output_type": "execute_result"
    }
   ],
   "source": [
    "model.fit(\n",
    "    partial_X_train,\n",
    "    partial_y_train,\n",
    "    epochs=3,\n",
    "    batch_size=512,\n",
    "    validation_data=(X_val, y_val)\n",
    ")"
   ]
  },
  {
   "cell_type": "markdown",
   "metadata": {},
   "source": [
    "## Model Evaluation"
   ]
  },
  {
   "cell_type": "code",
   "execution_count": 30,
   "metadata": {},
   "outputs": [],
   "source": [
    "# Making Predictions for testing data\n",
    "np.set_printoptions(suppress=False)\n",
    "result = model.predict(X_test)"
   ]
  },
  {
   "cell_type": "code",
   "execution_count": 31,
   "metadata": {},
   "outputs": [
    {
     "data": {
      "text/plain": [
       "array([[2.8074272e-15],\n",
       "       [2.3509397e-10],\n",
       "       [9.9999440e-01],\n",
       "       ...,\n",
       "       [4.1412266e-11],\n",
       "       [9.6387923e-01],\n",
       "       [3.9035082e-04]], dtype=float32)"
      ]
     },
     "execution_count": 31,
     "metadata": {},
     "output_type": "execute_result"
    }
   ],
   "source": [
    "result"
   ]
  },
  {
   "cell_type": "code",
   "execution_count": 32,
   "metadata": {},
   "outputs": [
    {
     "data": {
      "text/plain": [
       "array([[0],\n",
       "       [0],\n",
       "       [1],\n",
       "       ...,\n",
       "       [0],\n",
       "       [1],\n",
       "       [0]])"
      ]
     },
     "execution_count": 32,
     "metadata": {},
     "output_type": "execute_result"
    }
   ],
   "source": [
    "result_binary = np.round(result).astype(int)\n",
    "\n",
    "result_binary\n"
   ]
  },
  {
   "cell_type": "code",
   "execution_count": 33,
   "metadata": {},
   "outputs": [],
   "source": [
    "y_pred = np.zeros(len(result))\n",
    "for i, score in enumerate(result):\n",
    "    y_pred[i] = np.round(score)"
   ]
  },
  {
   "cell_type": "code",
   "execution_count": 34,
   "metadata": {},
   "outputs": [
    {
     "data": {
      "text/plain": [
       "<tf.Tensor: shape=(), dtype=float32, numpy=0.1833>"
      ]
     },
     "execution_count": 34,
     "metadata": {},
     "output_type": "execute_result"
    }
   ],
   "source": [
    "mae = metrics.mean_absolute_error(y_pred, y_test)\n",
    "mae"
   ]
  },
  {
   "cell_type": "code",
   "execution_count": null,
   "metadata": {},
   "outputs": [],
   "source": []
  }
 ],
 "metadata": {
  "kernelspec": {
   "display_name": "Python 3 (ipykernel)",
   "language": "python",
   "name": "python3"
  },
  "language_info": {
   "codemirror_mode": {
    "name": "ipython",
    "version": 3
   },
   "file_extension": ".py",
   "mimetype": "text/x-python",
   "name": "python",
   "nbconvert_exporter": "python",
   "pygments_lexer": "ipython3",
   "version": "3.9.12"
  }
 },
 "nbformat": 4,
 "nbformat_minor": 4
}
